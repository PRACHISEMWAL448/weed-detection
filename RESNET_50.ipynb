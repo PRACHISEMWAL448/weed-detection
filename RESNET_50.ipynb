{
  "nbformat": 4,
  "nbformat_minor": 0,
  "metadata": {
    "colab": {
      "provenance": []
    },
    "kernelspec": {
      "name": "python3",
      "display_name": "Python 3"
    },
    "language_info": {
      "name": "python"
    }
  },
  "cells": [
    {
      "cell_type": "code",
      "execution_count": null,
      "metadata": {
        "id": "m2yU-n3D97Nb"
      },
      "outputs": [],
      "source": []
    },
    {
      "cell_type": "code",
      "execution_count": null,
      "metadata": {
        "colab": {
          "base_uri": "https://localhost:8080/"
        },
        "id": "jNbVe3jTEgsi",
        "outputId": "2cdb829e-d6ba-4854-d6a8-83d81c56480d"
      },
      "outputs": [
        {
          "name": "stdout",
          "output_type": "stream",
          "text": [
            "Requirement already satisfied: torch in /usr/local/lib/python3.11/dist-packages (2.6.0+cu124)\n",
            "Requirement already satisfied: torchvision in /usr/local/lib/python3.11/dist-packages (0.21.0+cu124)\n",
            "Requirement already satisfied: torchaudio in /usr/local/lib/python3.11/dist-packages (2.6.0+cu124)\n",
            "Requirement already satisfied: filelock in /usr/local/lib/python3.11/dist-packages (from torch) (3.18.0)\n",
            "Requirement already satisfied: typing-extensions>=4.10.0 in /usr/local/lib/python3.11/dist-packages (from torch) (4.13.2)\n",
            "Requirement already satisfied: networkx in /usr/local/lib/python3.11/dist-packages (from torch) (3.4.2)\n",
            "Requirement already satisfied: jinja2 in /usr/local/lib/python3.11/dist-packages (from torch) (3.1.6)\n",
            "Requirement already satisfied: fsspec in /usr/local/lib/python3.11/dist-packages (from torch) (2025.3.2)\n",
            "Requirement already satisfied: nvidia-cuda-nvrtc-cu12==12.4.127 in /usr/local/lib/python3.11/dist-packages (from torch) (12.4.127)\n",
            "Requirement already satisfied: nvidia-cuda-runtime-cu12==12.4.127 in /usr/local/lib/python3.11/dist-packages (from torch) (12.4.127)\n",
            "Requirement already satisfied: nvidia-cuda-cupti-cu12==12.4.127 in /usr/local/lib/python3.11/dist-packages (from torch) (12.4.127)\n",
            "Requirement already satisfied: nvidia-cudnn-cu12==9.1.0.70 in /usr/local/lib/python3.11/dist-packages (from torch) (9.1.0.70)\n",
            "Requirement already satisfied: nvidia-cublas-cu12==12.4.5.8 in /usr/local/lib/python3.11/dist-packages (from torch) (12.4.5.8)\n",
            "Requirement already satisfied: nvidia-cufft-cu12==11.2.1.3 in /usr/local/lib/python3.11/dist-packages (from torch) (11.2.1.3)\n",
            "Requirement already satisfied: nvidia-curand-cu12==10.3.5.147 in /usr/local/lib/python3.11/dist-packages (from torch) (10.3.5.147)\n",
            "Requirement already satisfied: nvidia-cusolver-cu12==11.6.1.9 in /usr/local/lib/python3.11/dist-packages (from torch) (11.6.1.9)\n",
            "Requirement already satisfied: nvidia-cusparse-cu12==12.3.1.170 in /usr/local/lib/python3.11/dist-packages (from torch) (12.3.1.170)\n",
            "Requirement already satisfied: nvidia-cusparselt-cu12==0.6.2 in /usr/local/lib/python3.11/dist-packages (from torch) (0.6.2)\n",
            "Requirement already satisfied: nvidia-nccl-cu12==2.21.5 in /usr/local/lib/python3.11/dist-packages (from torch) (2.21.5)\n",
            "Requirement already satisfied: nvidia-nvtx-cu12==12.4.127 in /usr/local/lib/python3.11/dist-packages (from torch) (12.4.127)\n",
            "Requirement already satisfied: nvidia-nvjitlink-cu12==12.4.127 in /usr/local/lib/python3.11/dist-packages (from torch) (12.4.127)\n",
            "Requirement already satisfied: triton==3.2.0 in /usr/local/lib/python3.11/dist-packages (from torch) (3.2.0)\n",
            "Requirement already satisfied: sympy==1.13.1 in /usr/local/lib/python3.11/dist-packages (from torch) (1.13.1)\n",
            "Requirement already satisfied: mpmath<1.4,>=1.1.0 in /usr/local/lib/python3.11/dist-packages (from sympy==1.13.1->torch) (1.3.0)\n",
            "Requirement already satisfied: numpy in /usr/local/lib/python3.11/dist-packages (from torchvision) (2.0.2)\n",
            "Requirement already satisfied: pillow!=8.3.*,>=5.3.0 in /usr/local/lib/python3.11/dist-packages (from torchvision) (11.2.1)\n",
            "Requirement already satisfied: MarkupSafe>=2.0 in /usr/local/lib/python3.11/dist-packages (from jinja2->torch) (3.0.2)\n",
            "\u001b[31mERROR: Could not find a version that satisfies the requirement detectron2 (from versions: none)\u001b[0m\u001b[31m\n",
            "\u001b[0m\u001b[31mERROR: No matching distribution found for detectron2\u001b[0m\u001b[31m\n",
            "\u001b[0m"
          ]
        }
      ],
      "source": [
        "!pip install torch torchvision torchaudio\n",
        "!pip install detectron2\n"
      ]
    },
    {
      "cell_type": "code",
      "source": [],
      "metadata": {
        "id": "LgZfU4ZF-HGS"
      },
      "execution_count": null,
      "outputs": []
    },
    {
      "cell_type": "code",
      "execution_count": null,
      "metadata": {
        "colab": {
          "base_uri": "https://localhost:8080/",
          "height": 1000
        },
        "id": "UmVKqrFvH35b",
        "outputId": "d336d39e-8ad9-458a-b089-7cdf77c10859"
      },
      "outputs": [
        {
          "name": "stdout",
          "output_type": "stream",
          "text": [
            "Looking in links: https://download.pytorch.org/whl/cuda/11.8/torch_stable.html\n",
            "\u001b[31mERROR: Could not find a version that satisfies the requirement torch==2.0.1+cu118 (from versions: 1.13.0, 1.13.1, 2.0.0, 2.0.1, 2.1.0, 2.1.1, 2.1.2, 2.2.0, 2.2.1, 2.2.2, 2.3.0, 2.3.1, 2.4.0, 2.4.1, 2.5.0, 2.5.1, 2.6.0, 2.7.0)\u001b[0m\u001b[31m\n",
            "\u001b[0m\u001b[31mERROR: No matching distribution found for torch==2.0.1+cu118\u001b[0m\u001b[31m\n",
            "\u001b[0mRequirement already satisfied: setuptools in /usr/local/lib/python3.11/dist-packages (75.2.0)\n",
            "Collecting setuptools\n",
            "  Using cached setuptools-80.2.0-py3-none-any.whl.metadata (6.5 kB)\n",
            "Using cached setuptools-80.2.0-py3-none-any.whl (1.2 MB)\n",
            "Installing collected packages: setuptools\n",
            "  Attempting uninstall: setuptools\n",
            "    Found existing installation: setuptools 75.2.0\n",
            "    Uninstalling setuptools-75.2.0:\n",
            "      Successfully uninstalled setuptools-75.2.0\n",
            "\u001b[31mERROR: pip's dependency resolver does not currently take into account all the packages that are installed. This behaviour is the source of the following dependency conflicts.\n",
            "ipython 7.34.0 requires jedi>=0.16, which is not installed.\u001b[0m\u001b[31m\n",
            "\u001b[0mSuccessfully installed setuptools-80.2.0\n"
          ]
        },
        {
          "data": {
            "application/vnd.colab-display-data+json": {
              "id": "e2c59db0ba554bceadf1890ea795b7ba",
              "pip_warning": {
                "packages": [
                  "_distutils_hack",
                  "setuptools"
                ]
              }
            }
          },
          "metadata": {},
          "output_type": "display_data"
        },
        {
          "name": "stdout",
          "output_type": "stream",
          "text": [
            "Collecting git+https://github.com/facebookresearch/detectron2.git@main\n",
            "  Cloning https://github.com/facebookresearch/detectron2.git (to revision main) to /tmp/pip-req-build-ukdo7qvv\n",
            "  Running command git clone --filter=blob:none --quiet https://github.com/facebookresearch/detectron2.git /tmp/pip-req-build-ukdo7qvv\n",
            "  Resolved https://github.com/facebookresearch/detectron2.git to commit 536dc9d527074e3b15df5f6677ffe1f4e104a4ab\n",
            "  Preparing metadata (setup.py) ... \u001b[?25l\u001b[?25hdone\n",
            "Requirement already satisfied: Pillow>=7.1 in /usr/local/lib/python3.11/dist-packages (from detectron2==0.6) (11.2.1)\n",
            "Requirement already satisfied: matplotlib in /usr/local/lib/python3.11/dist-packages (from detectron2==0.6) (3.10.0)\n",
            "Requirement already satisfied: pycocotools>=2.0.2 in /usr/local/lib/python3.11/dist-packages (from detectron2==0.6) (2.0.8)\n",
            "Requirement already satisfied: termcolor>=1.1 in /usr/local/lib/python3.11/dist-packages (from detectron2==0.6) (3.0.1)\n",
            "Collecting yacs>=0.1.8 (from detectron2==0.6)\n",
            "  Downloading yacs-0.1.8-py3-none-any.whl.metadata (639 bytes)\n",
            "Requirement already satisfied: tabulate in /usr/local/lib/python3.11/dist-packages (from detectron2==0.6) (0.9.0)\n",
            "Requirement already satisfied: cloudpickle in /usr/local/lib/python3.11/dist-packages (from detectron2==0.6) (3.1.1)\n",
            "Requirement already satisfied: tqdm>4.29.0 in /usr/local/lib/python3.11/dist-packages (from detectron2==0.6) (4.67.1)\n",
            "Requirement already satisfied: tensorboard in /usr/local/lib/python3.11/dist-packages (from detectron2==0.6) (2.18.0)\n",
            "Collecting fvcore<0.1.6,>=0.1.5 (from detectron2==0.6)\n",
            "  Downloading fvcore-0.1.5.post20221221.tar.gz (50 kB)\n",
            "\u001b[2K     \u001b[90m━━━━━━━━━━━━━━━━━━━━━━━━━━━━━━━━━━━━━━━━\u001b[0m \u001b[32m50.2/50.2 kB\u001b[0m \u001b[31m3.7 MB/s\u001b[0m eta \u001b[36m0:00:00\u001b[0m\n",
            "\u001b[?25h  Preparing metadata (setup.py) ... \u001b[?25l\u001b[?25hdone\n",
            "Collecting iopath<0.1.10,>=0.1.7 (from detectron2==0.6)\n",
            "  Downloading iopath-0.1.9-py3-none-any.whl.metadata (370 bytes)\n",
            "Collecting omegaconf<2.4,>=2.1 (from detectron2==0.6)\n",
            "  Downloading omegaconf-2.3.0-py3-none-any.whl.metadata (3.9 kB)\n",
            "Collecting hydra-core>=1.1 (from detectron2==0.6)\n",
            "  Downloading hydra_core-1.3.2-py3-none-any.whl.metadata (5.5 kB)\n",
            "Collecting black (from detectron2==0.6)\n",
            "  Downloading black-25.1.0-cp311-cp311-manylinux_2_17_x86_64.manylinux2014_x86_64.manylinux_2_28_x86_64.whl.metadata (81 kB)\n",
            "\u001b[2K     \u001b[90m━━━━━━━━━━━━━━━━━━━━━━━━━━━━━━━━━━━━━━━━\u001b[0m \u001b[32m81.3/81.3 kB\u001b[0m \u001b[31m6.9 MB/s\u001b[0m eta \u001b[36m0:00:00\u001b[0m\n",
            "\u001b[?25hRequirement already satisfied: packaging in /usr/local/lib/python3.11/dist-packages (from detectron2==0.6) (24.2)\n",
            "Requirement already satisfied: numpy in /usr/local/lib/python3.11/dist-packages (from fvcore<0.1.6,>=0.1.5->detectron2==0.6) (2.0.2)\n",
            "Requirement already satisfied: pyyaml>=5.1 in /usr/local/lib/python3.11/dist-packages (from fvcore<0.1.6,>=0.1.5->detectron2==0.6) (6.0.2)\n",
            "Collecting antlr4-python3-runtime==4.9.* (from hydra-core>=1.1->detectron2==0.6)\n",
            "  Downloading antlr4-python3-runtime-4.9.3.tar.gz (117 kB)\n",
            "\u001b[2K     \u001b[90m━━━━━━━━━━━━━━━━━━━━━━━━━━━━━━━━━━━━━━\u001b[0m \u001b[32m117.0/117.0 kB\u001b[0m \u001b[31m10.8 MB/s\u001b[0m eta \u001b[36m0:00:00\u001b[0m\n",
            "\u001b[?25h  Preparing metadata (setup.py) ... \u001b[?25l\u001b[?25hdone\n",
            "Collecting portalocker (from iopath<0.1.10,>=0.1.7->detectron2==0.6)\n",
            "  Downloading portalocker-3.1.1-py3-none-any.whl.metadata (8.6 kB)\n",
            "Requirement already satisfied: contourpy>=1.0.1 in /usr/local/lib/python3.11/dist-packages (from matplotlib->detectron2==0.6) (1.3.2)\n",
            "Requirement already satisfied: cycler>=0.10 in /usr/local/lib/python3.11/dist-packages (from matplotlib->detectron2==0.6) (0.12.1)\n",
            "Requirement already satisfied: fonttools>=4.22.0 in /usr/local/lib/python3.11/dist-packages (from matplotlib->detectron2==0.6) (4.57.0)\n",
            "Requirement already satisfied: kiwisolver>=1.3.1 in /usr/local/lib/python3.11/dist-packages (from matplotlib->detectron2==0.6) (1.4.8)\n",
            "Requirement already satisfied: pyparsing>=2.3.1 in /usr/local/lib/python3.11/dist-packages (from matplotlib->detectron2==0.6) (3.2.3)\n",
            "Requirement already satisfied: python-dateutil>=2.7 in /usr/local/lib/python3.11/dist-packages (from matplotlib->detectron2==0.6) (2.9.0.post0)\n",
            "Requirement already satisfied: click>=8.0.0 in /usr/local/lib/python3.11/dist-packages (from black->detectron2==0.6) (8.1.8)\n",
            "Collecting mypy-extensions>=0.4.3 (from black->detectron2==0.6)\n",
            "  Downloading mypy_extensions-1.1.0-py3-none-any.whl.metadata (1.1 kB)\n",
            "Collecting pathspec>=0.9.0 (from black->detectron2==0.6)\n",
            "  Downloading pathspec-0.12.1-py3-none-any.whl.metadata (21 kB)\n",
            "Requirement already satisfied: platformdirs>=2 in /usr/local/lib/python3.11/dist-packages (from black->detectron2==0.6) (4.3.7)\n",
            "Requirement already satisfied: absl-py>=0.4 in /usr/local/lib/python3.11/dist-packages (from tensorboard->detectron2==0.6) (1.4.0)\n",
            "Requirement already satisfied: grpcio>=1.48.2 in /usr/local/lib/python3.11/dist-packages (from tensorboard->detectron2==0.6) (1.71.0)\n",
            "Requirement already satisfied: markdown>=2.6.8 in /usr/local/lib/python3.11/dist-packages (from tensorboard->detectron2==0.6) (3.8)\n",
            "Requirement already satisfied: protobuf!=4.24.0,>=3.19.6 in /usr/local/lib/python3.11/dist-packages (from tensorboard->detectron2==0.6) (5.29.4)\n",
            "Requirement already satisfied: setuptools>=41.0.0 in /usr/local/lib/python3.11/dist-packages (from tensorboard->detectron2==0.6) (80.2.0)\n",
            "Requirement already satisfied: six>1.9 in /usr/local/lib/python3.11/dist-packages (from tensorboard->detectron2==0.6) (1.17.0)\n",
            "Requirement already satisfied: tensorboard-data-server<0.8.0,>=0.7.0 in /usr/local/lib/python3.11/dist-packages (from tensorboard->detectron2==0.6) (0.7.2)\n",
            "Requirement already satisfied: werkzeug>=1.0.1 in /usr/local/lib/python3.11/dist-packages (from tensorboard->detectron2==0.6) (3.1.3)\n",
            "Requirement already satisfied: MarkupSafe>=2.1.1 in /usr/local/lib/python3.11/dist-packages (from werkzeug>=1.0.1->tensorboard->detectron2==0.6) (3.0.2)\n",
            "Downloading hydra_core-1.3.2-py3-none-any.whl (154 kB)\n",
            "\u001b[2K   \u001b[90m━━━━━━━━━━━━━━━━━━━━━━━━━━━━━━━━━━━━━━━━\u001b[0m \u001b[32m154.5/154.5 kB\u001b[0m \u001b[31m10.6 MB/s\u001b[0m eta \u001b[36m0:00:00\u001b[0m\n",
            "\u001b[?25hDownloading iopath-0.1.9-py3-none-any.whl (27 kB)\n",
            "Downloading omegaconf-2.3.0-py3-none-any.whl (79 kB)\n",
            "\u001b[2K   \u001b[90m━━━━━━━━━━━━━━━━━━━━━━━━━━━━━━━━━━━━━━━━\u001b[0m \u001b[32m79.5/79.5 kB\u001b[0m \u001b[31m7.4 MB/s\u001b[0m eta \u001b[36m0:00:00\u001b[0m\n",
            "\u001b[?25hDownloading yacs-0.1.8-py3-none-any.whl (14 kB)\n",
            "Downloading black-25.1.0-cp311-cp311-manylinux_2_17_x86_64.manylinux2014_x86_64.manylinux_2_28_x86_64.whl (1.7 MB)\n",
            "\u001b[2K   \u001b[90m━━━━━━━━━━━━━━━━━━━━━━━━━━━━━━━━━━━━━━━━\u001b[0m \u001b[32m1.7/1.7 MB\u001b[0m \u001b[31m70.1 MB/s\u001b[0m eta \u001b[36m0:00:00\u001b[0m\n",
            "\u001b[?25hDownloading mypy_extensions-1.1.0-py3-none-any.whl (5.0 kB)\n",
            "Downloading pathspec-0.12.1-py3-none-any.whl (31 kB)\n",
            "Downloading portalocker-3.1.1-py3-none-any.whl (19 kB)\n",
            "Building wheels for collected packages: detectron2, fvcore, antlr4-python3-runtime\n",
            "  Building wheel for detectron2 (setup.py) ... \u001b[?25l\u001b[?25hcanceled\n",
            "\u001b[31mERROR: Operation cancelled by user\u001b[0m\u001b[31m\n",
            "\u001b[0m^C\n"
          ]
        }
      ],
      "source": [
        "# Install PyTorch (if not installed)\n",
        "!pip install torch==2.0.1+cu118 torchvision==0.15.2+cu118 torchaudio==2.0.1 -f https://download.pytorch.org/whl/cuda/11.8/torch_stable.html\n",
        "\n",
        "# Install Detectron2 from the official GitHub repository\n",
        "!pip install -U setuptools\n",
        "!pip install 'git+https://github.com/facebookresearch/detectron2.git@main'\n"
      ]
    },
    {
      "cell_type": "code",
      "source": [],
      "metadata": {
        "id": "f0lQe-O5-K6s"
      },
      "execution_count": null,
      "outputs": []
    },
    {
      "cell_type": "code",
      "source": [
        "from google.colab import files\n",
        "import zipfile\n",
        "import os\n",
        "\n",
        "# Upload your zip file\n",
        "uploaded = files.upload()\n",
        "\n",
        "# Assuming your zip file is named \"weed_dataset.zip\"\n",
        "zip_file = '/content/weeds1.zip'\n",
        "\n",
        "# Unzipping the file\n",
        "with zipfile.ZipFile(zip_file, 'r') as zip_ref:\n",
        "    zip_ref.extractall('weed_dataset')\n",
        "\n",
        "# Check the folder structure after extraction\n",
        "os.listdir('weed_dataset')\n"
      ],
      "metadata": {
        "colab": {
          "base_uri": "https://localhost:8080/",
          "height": 89
        },
        "id": "tbG1ZxKP946m",
        "outputId": "b36fec01-61dd-427f-9e3a-4accb8cc5c1e"
      },
      "execution_count": null,
      "outputs": [
        {
          "output_type": "display_data",
          "data": {
            "text/plain": [
              "<IPython.core.display.HTML object>"
            ],
            "text/html": [
              "\n",
              "     <input type=\"file\" id=\"files-a740e01c-3349-4a4a-a00f-24520ecf7153\" name=\"files[]\" multiple disabled\n",
              "        style=\"border:none\" />\n",
              "     <output id=\"result-a740e01c-3349-4a4a-a00f-24520ecf7153\">\n",
              "      Upload widget is only available when the cell has been executed in the\n",
              "      current browser session. Please rerun this cell to enable.\n",
              "      </output>\n",
              "      <script>// Copyright 2017 Google LLC\n",
              "//\n",
              "// Licensed under the Apache License, Version 2.0 (the \"License\");\n",
              "// you may not use this file except in compliance with the License.\n",
              "// You may obtain a copy of the License at\n",
              "//\n",
              "//      http://www.apache.org/licenses/LICENSE-2.0\n",
              "//\n",
              "// Unless required by applicable law or agreed to in writing, software\n",
              "// distributed under the License is distributed on an \"AS IS\" BASIS,\n",
              "// WITHOUT WARRANTIES OR CONDITIONS OF ANY KIND, either express or implied.\n",
              "// See the License for the specific language governing permissions and\n",
              "// limitations under the License.\n",
              "\n",
              "/**\n",
              " * @fileoverview Helpers for google.colab Python module.\n",
              " */\n",
              "(function(scope) {\n",
              "function span(text, styleAttributes = {}) {\n",
              "  const element = document.createElement('span');\n",
              "  element.textContent = text;\n",
              "  for (const key of Object.keys(styleAttributes)) {\n",
              "    element.style[key] = styleAttributes[key];\n",
              "  }\n",
              "  return element;\n",
              "}\n",
              "\n",
              "// Max number of bytes which will be uploaded at a time.\n",
              "const MAX_PAYLOAD_SIZE = 100 * 1024;\n",
              "\n",
              "function _uploadFiles(inputId, outputId) {\n",
              "  const steps = uploadFilesStep(inputId, outputId);\n",
              "  const outputElement = document.getElementById(outputId);\n",
              "  // Cache steps on the outputElement to make it available for the next call\n",
              "  // to uploadFilesContinue from Python.\n",
              "  outputElement.steps = steps;\n",
              "\n",
              "  return _uploadFilesContinue(outputId);\n",
              "}\n",
              "\n",
              "// This is roughly an async generator (not supported in the browser yet),\n",
              "// where there are multiple asynchronous steps and the Python side is going\n",
              "// to poll for completion of each step.\n",
              "// This uses a Promise to block the python side on completion of each step,\n",
              "// then passes the result of the previous step as the input to the next step.\n",
              "function _uploadFilesContinue(outputId) {\n",
              "  const outputElement = document.getElementById(outputId);\n",
              "  const steps = outputElement.steps;\n",
              "\n",
              "  const next = steps.next(outputElement.lastPromiseValue);\n",
              "  return Promise.resolve(next.value.promise).then((value) => {\n",
              "    // Cache the last promise value to make it available to the next\n",
              "    // step of the generator.\n",
              "    outputElement.lastPromiseValue = value;\n",
              "    return next.value.response;\n",
              "  });\n",
              "}\n",
              "\n",
              "/**\n",
              " * Generator function which is called between each async step of the upload\n",
              " * process.\n",
              " * @param {string} inputId Element ID of the input file picker element.\n",
              " * @param {string} outputId Element ID of the output display.\n",
              " * @return {!Iterable<!Object>} Iterable of next steps.\n",
              " */\n",
              "function* uploadFilesStep(inputId, outputId) {\n",
              "  const inputElement = document.getElementById(inputId);\n",
              "  inputElement.disabled = false;\n",
              "\n",
              "  const outputElement = document.getElementById(outputId);\n",
              "  outputElement.innerHTML = '';\n",
              "\n",
              "  const pickedPromise = new Promise((resolve) => {\n",
              "    inputElement.addEventListener('change', (e) => {\n",
              "      resolve(e.target.files);\n",
              "    });\n",
              "  });\n",
              "\n",
              "  const cancel = document.createElement('button');\n",
              "  inputElement.parentElement.appendChild(cancel);\n",
              "  cancel.textContent = 'Cancel upload';\n",
              "  const cancelPromise = new Promise((resolve) => {\n",
              "    cancel.onclick = () => {\n",
              "      resolve(null);\n",
              "    };\n",
              "  });\n",
              "\n",
              "  // Wait for the user to pick the files.\n",
              "  const files = yield {\n",
              "    promise: Promise.race([pickedPromise, cancelPromise]),\n",
              "    response: {\n",
              "      action: 'starting',\n",
              "    }\n",
              "  };\n",
              "\n",
              "  cancel.remove();\n",
              "\n",
              "  // Disable the input element since further picks are not allowed.\n",
              "  inputElement.disabled = true;\n",
              "\n",
              "  if (!files) {\n",
              "    return {\n",
              "      response: {\n",
              "        action: 'complete',\n",
              "      }\n",
              "    };\n",
              "  }\n",
              "\n",
              "  for (const file of files) {\n",
              "    const li = document.createElement('li');\n",
              "    li.append(span(file.name, {fontWeight: 'bold'}));\n",
              "    li.append(span(\n",
              "        `(${file.type || 'n/a'}) - ${file.size} bytes, ` +\n",
              "        `last modified: ${\n",
              "            file.lastModifiedDate ? file.lastModifiedDate.toLocaleDateString() :\n",
              "                                    'n/a'} - `));\n",
              "    const percent = span('0% done');\n",
              "    li.appendChild(percent);\n",
              "\n",
              "    outputElement.appendChild(li);\n",
              "\n",
              "    const fileDataPromise = new Promise((resolve) => {\n",
              "      const reader = new FileReader();\n",
              "      reader.onload = (e) => {\n",
              "        resolve(e.target.result);\n",
              "      };\n",
              "      reader.readAsArrayBuffer(file);\n",
              "    });\n",
              "    // Wait for the data to be ready.\n",
              "    let fileData = yield {\n",
              "      promise: fileDataPromise,\n",
              "      response: {\n",
              "        action: 'continue',\n",
              "      }\n",
              "    };\n",
              "\n",
              "    // Use a chunked sending to avoid message size limits. See b/62115660.\n",
              "    let position = 0;\n",
              "    do {\n",
              "      const length = Math.min(fileData.byteLength - position, MAX_PAYLOAD_SIZE);\n",
              "      const chunk = new Uint8Array(fileData, position, length);\n",
              "      position += length;\n",
              "\n",
              "      const base64 = btoa(String.fromCharCode.apply(null, chunk));\n",
              "      yield {\n",
              "        response: {\n",
              "          action: 'append',\n",
              "          file: file.name,\n",
              "          data: base64,\n",
              "        },\n",
              "      };\n",
              "\n",
              "      let percentDone = fileData.byteLength === 0 ?\n",
              "          100 :\n",
              "          Math.round((position / fileData.byteLength) * 100);\n",
              "      percent.textContent = `${percentDone}% done`;\n",
              "\n",
              "    } while (position < fileData.byteLength);\n",
              "  }\n",
              "\n",
              "  // All done.\n",
              "  yield {\n",
              "    response: {\n",
              "      action: 'complete',\n",
              "    }\n",
              "  };\n",
              "}\n",
              "\n",
              "scope.google = scope.google || {};\n",
              "scope.google.colab = scope.google.colab || {};\n",
              "scope.google.colab._files = {\n",
              "  _uploadFiles,\n",
              "  _uploadFilesContinue,\n",
              "};\n",
              "})(self);\n",
              "</script> "
            ]
          },
          "metadata": {}
        },
        {
          "output_type": "stream",
          "name": "stdout",
          "text": [
            "Saving weeds1.zip to weeds1 (1).zip\n"
          ]
        },
        {
          "output_type": "execute_result",
          "data": {
            "text/plain": [
              "['val', 'Test', 'Train']"
            ]
          },
          "metadata": {},
          "execution_count": 5
        }
      ]
    },
    {
      "cell_type": "code",
      "source": [],
      "metadata": {
        "id": "5tDTEDYS-Qf-"
      },
      "execution_count": null,
      "outputs": []
    },
    {
      "cell_type": "code",
      "source": [
        "class Generator(nn.Module):\n",
        "    def __init__(self):\n",
        "        super(Generator, self).__init__()\n",
        "        self.main = nn.Sequential(\n",
        "            nn.ConvTranspose2d(nz, ngf * 8, 4, 1, 0, bias=False),\n",
        "            nn.BatchNorm2d(ngf * 8),\n",
        "            nn.ReLU(True),\n",
        "\n",
        "            nn.ConvTranspose2d(ngf * 8, ngf * 4, 4, 2, 1, bias=False),\n",
        "            nn.BatchNorm2d(ngf * 4),\n",
        "            nn.ReLU(True),\n",
        "\n",
        "            nn.ConvTranspose2d(ngf * 4, ngf * 2, 4, 2, 1, bias=False),\n",
        "            nn.BatchNorm2d(ngf * 2),\n",
        "            nn.ReLU(True),\n",
        "\n",
        "            nn.ConvTranspose2d(ngf * 2, ngf, 4, 2, 1, bias=False),\n",
        "            nn.BatchNorm2d(ngf),\n",
        "            nn.ReLU(True),\n",
        "\n",
        "            nn.ConvTranspose2d(ngf, nc, 4, 2, 1, bias=False),\n",
        "            nn.Tanh()\n",
        "        )\n",
        "\n",
        "    def forward(self, input):\n",
        "        return self.main(input)\n"
      ],
      "metadata": {
        "id": "y6nhEpdL8Wo3"
      },
      "execution_count": null,
      "outputs": []
    },
    {
      "cell_type": "code",
      "source": [],
      "metadata": {
        "id": "s9w9TkCf-ZYT"
      },
      "execution_count": null,
      "outputs": []
    },
    {
      "cell_type": "code",
      "source": [
        "import torch\n",
        "import torchvision.models as models\n",
        "import torchvision.transforms as transforms\n",
        "from PIL import Image\n",
        "\n",
        "# Load pre-trained ResNet-50\n",
        "resnet50 = models.resnet50(pretrained=True)\n",
        "\n",
        "# Set to evaluation mode\n",
        "resnet50.eval()\n"
      ],
      "metadata": {
        "colab": {
          "base_uri": "https://localhost:8080/"
        },
        "id": "-jTL4wOX8pJy",
        "outputId": "afb745c8-ac12-4b4c-ca00-c3f1792cd8e6"
      },
      "execution_count": null,
      "outputs": [
        {
          "output_type": "stream",
          "name": "stderr",
          "text": [
            "/usr/local/lib/python3.11/dist-packages/torchvision/models/_utils.py:208: UserWarning: The parameter 'pretrained' is deprecated since 0.13 and may be removed in the future, please use 'weights' instead.\n",
            "  warnings.warn(\n",
            "/usr/local/lib/python3.11/dist-packages/torchvision/models/_utils.py:223: UserWarning: Arguments other than a weight enum or `None` for 'weights' are deprecated since 0.13 and may be removed in the future. The current behavior is equivalent to passing `weights=ResNet50_Weights.IMAGENET1K_V1`. You can also use `weights=ResNet50_Weights.DEFAULT` to get the most up-to-date weights.\n",
            "  warnings.warn(msg)\n",
            "Downloading: \"https://download.pytorch.org/models/resnet50-0676ba61.pth\" to /root/.cache/torch/hub/checkpoints/resnet50-0676ba61.pth\n",
            "100%|██████████| 97.8M/97.8M [00:01<00:00, 73.6MB/s]\n"
          ]
        },
        {
          "output_type": "execute_result",
          "data": {
            "text/plain": [
              "ResNet(\n",
              "  (conv1): Conv2d(3, 64, kernel_size=(7, 7), stride=(2, 2), padding=(3, 3), bias=False)\n",
              "  (bn1): BatchNorm2d(64, eps=1e-05, momentum=0.1, affine=True, track_running_stats=True)\n",
              "  (relu): ReLU(inplace=True)\n",
              "  (maxpool): MaxPool2d(kernel_size=3, stride=2, padding=1, dilation=1, ceil_mode=False)\n",
              "  (layer1): Sequential(\n",
              "    (0): Bottleneck(\n",
              "      (conv1): Conv2d(64, 64, kernel_size=(1, 1), stride=(1, 1), bias=False)\n",
              "      (bn1): BatchNorm2d(64, eps=1e-05, momentum=0.1, affine=True, track_running_stats=True)\n",
              "      (conv2): Conv2d(64, 64, kernel_size=(3, 3), stride=(1, 1), padding=(1, 1), bias=False)\n",
              "      (bn2): BatchNorm2d(64, eps=1e-05, momentum=0.1, affine=True, track_running_stats=True)\n",
              "      (conv3): Conv2d(64, 256, kernel_size=(1, 1), stride=(1, 1), bias=False)\n",
              "      (bn3): BatchNorm2d(256, eps=1e-05, momentum=0.1, affine=True, track_running_stats=True)\n",
              "      (relu): ReLU(inplace=True)\n",
              "      (downsample): Sequential(\n",
              "        (0): Conv2d(64, 256, kernel_size=(1, 1), stride=(1, 1), bias=False)\n",
              "        (1): BatchNorm2d(256, eps=1e-05, momentum=0.1, affine=True, track_running_stats=True)\n",
              "      )\n",
              "    )\n",
              "    (1): Bottleneck(\n",
              "      (conv1): Conv2d(256, 64, kernel_size=(1, 1), stride=(1, 1), bias=False)\n",
              "      (bn1): BatchNorm2d(64, eps=1e-05, momentum=0.1, affine=True, track_running_stats=True)\n",
              "      (conv2): Conv2d(64, 64, kernel_size=(3, 3), stride=(1, 1), padding=(1, 1), bias=False)\n",
              "      (bn2): BatchNorm2d(64, eps=1e-05, momentum=0.1, affine=True, track_running_stats=True)\n",
              "      (conv3): Conv2d(64, 256, kernel_size=(1, 1), stride=(1, 1), bias=False)\n",
              "      (bn3): BatchNorm2d(256, eps=1e-05, momentum=0.1, affine=True, track_running_stats=True)\n",
              "      (relu): ReLU(inplace=True)\n",
              "    )\n",
              "    (2): Bottleneck(\n",
              "      (conv1): Conv2d(256, 64, kernel_size=(1, 1), stride=(1, 1), bias=False)\n",
              "      (bn1): BatchNorm2d(64, eps=1e-05, momentum=0.1, affine=True, track_running_stats=True)\n",
              "      (conv2): Conv2d(64, 64, kernel_size=(3, 3), stride=(1, 1), padding=(1, 1), bias=False)\n",
              "      (bn2): BatchNorm2d(64, eps=1e-05, momentum=0.1, affine=True, track_running_stats=True)\n",
              "      (conv3): Conv2d(64, 256, kernel_size=(1, 1), stride=(1, 1), bias=False)\n",
              "      (bn3): BatchNorm2d(256, eps=1e-05, momentum=0.1, affine=True, track_running_stats=True)\n",
              "      (relu): ReLU(inplace=True)\n",
              "    )\n",
              "  )\n",
              "  (layer2): Sequential(\n",
              "    (0): Bottleneck(\n",
              "      (conv1): Conv2d(256, 128, kernel_size=(1, 1), stride=(1, 1), bias=False)\n",
              "      (bn1): BatchNorm2d(128, eps=1e-05, momentum=0.1, affine=True, track_running_stats=True)\n",
              "      (conv2): Conv2d(128, 128, kernel_size=(3, 3), stride=(2, 2), padding=(1, 1), bias=False)\n",
              "      (bn2): BatchNorm2d(128, eps=1e-05, momentum=0.1, affine=True, track_running_stats=True)\n",
              "      (conv3): Conv2d(128, 512, kernel_size=(1, 1), stride=(1, 1), bias=False)\n",
              "      (bn3): BatchNorm2d(512, eps=1e-05, momentum=0.1, affine=True, track_running_stats=True)\n",
              "      (relu): ReLU(inplace=True)\n",
              "      (downsample): Sequential(\n",
              "        (0): Conv2d(256, 512, kernel_size=(1, 1), stride=(2, 2), bias=False)\n",
              "        (1): BatchNorm2d(512, eps=1e-05, momentum=0.1, affine=True, track_running_stats=True)\n",
              "      )\n",
              "    )\n",
              "    (1): Bottleneck(\n",
              "      (conv1): Conv2d(512, 128, kernel_size=(1, 1), stride=(1, 1), bias=False)\n",
              "      (bn1): BatchNorm2d(128, eps=1e-05, momentum=0.1, affine=True, track_running_stats=True)\n",
              "      (conv2): Conv2d(128, 128, kernel_size=(3, 3), stride=(1, 1), padding=(1, 1), bias=False)\n",
              "      (bn2): BatchNorm2d(128, eps=1e-05, momentum=0.1, affine=True, track_running_stats=True)\n",
              "      (conv3): Conv2d(128, 512, kernel_size=(1, 1), stride=(1, 1), bias=False)\n",
              "      (bn3): BatchNorm2d(512, eps=1e-05, momentum=0.1, affine=True, track_running_stats=True)\n",
              "      (relu): ReLU(inplace=True)\n",
              "    )\n",
              "    (2): Bottleneck(\n",
              "      (conv1): Conv2d(512, 128, kernel_size=(1, 1), stride=(1, 1), bias=False)\n",
              "      (bn1): BatchNorm2d(128, eps=1e-05, momentum=0.1, affine=True, track_running_stats=True)\n",
              "      (conv2): Conv2d(128, 128, kernel_size=(3, 3), stride=(1, 1), padding=(1, 1), bias=False)\n",
              "      (bn2): BatchNorm2d(128, eps=1e-05, momentum=0.1, affine=True, track_running_stats=True)\n",
              "      (conv3): Conv2d(128, 512, kernel_size=(1, 1), stride=(1, 1), bias=False)\n",
              "      (bn3): BatchNorm2d(512, eps=1e-05, momentum=0.1, affine=True, track_running_stats=True)\n",
              "      (relu): ReLU(inplace=True)\n",
              "    )\n",
              "    (3): Bottleneck(\n",
              "      (conv1): Conv2d(512, 128, kernel_size=(1, 1), stride=(1, 1), bias=False)\n",
              "      (bn1): BatchNorm2d(128, eps=1e-05, momentum=0.1, affine=True, track_running_stats=True)\n",
              "      (conv2): Conv2d(128, 128, kernel_size=(3, 3), stride=(1, 1), padding=(1, 1), bias=False)\n",
              "      (bn2): BatchNorm2d(128, eps=1e-05, momentum=0.1, affine=True, track_running_stats=True)\n",
              "      (conv3): Conv2d(128, 512, kernel_size=(1, 1), stride=(1, 1), bias=False)\n",
              "      (bn3): BatchNorm2d(512, eps=1e-05, momentum=0.1, affine=True, track_running_stats=True)\n",
              "      (relu): ReLU(inplace=True)\n",
              "    )\n",
              "  )\n",
              "  (layer3): Sequential(\n",
              "    (0): Bottleneck(\n",
              "      (conv1): Conv2d(512, 256, kernel_size=(1, 1), stride=(1, 1), bias=False)\n",
              "      (bn1): BatchNorm2d(256, eps=1e-05, momentum=0.1, affine=True, track_running_stats=True)\n",
              "      (conv2): Conv2d(256, 256, kernel_size=(3, 3), stride=(2, 2), padding=(1, 1), bias=False)\n",
              "      (bn2): BatchNorm2d(256, eps=1e-05, momentum=0.1, affine=True, track_running_stats=True)\n",
              "      (conv3): Conv2d(256, 1024, kernel_size=(1, 1), stride=(1, 1), bias=False)\n",
              "      (bn3): BatchNorm2d(1024, eps=1e-05, momentum=0.1, affine=True, track_running_stats=True)\n",
              "      (relu): ReLU(inplace=True)\n",
              "      (downsample): Sequential(\n",
              "        (0): Conv2d(512, 1024, kernel_size=(1, 1), stride=(2, 2), bias=False)\n",
              "        (1): BatchNorm2d(1024, eps=1e-05, momentum=0.1, affine=True, track_running_stats=True)\n",
              "      )\n",
              "    )\n",
              "    (1): Bottleneck(\n",
              "      (conv1): Conv2d(1024, 256, kernel_size=(1, 1), stride=(1, 1), bias=False)\n",
              "      (bn1): BatchNorm2d(256, eps=1e-05, momentum=0.1, affine=True, track_running_stats=True)\n",
              "      (conv2): Conv2d(256, 256, kernel_size=(3, 3), stride=(1, 1), padding=(1, 1), bias=False)\n",
              "      (bn2): BatchNorm2d(256, eps=1e-05, momentum=0.1, affine=True, track_running_stats=True)\n",
              "      (conv3): Conv2d(256, 1024, kernel_size=(1, 1), stride=(1, 1), bias=False)\n",
              "      (bn3): BatchNorm2d(1024, eps=1e-05, momentum=0.1, affine=True, track_running_stats=True)\n",
              "      (relu): ReLU(inplace=True)\n",
              "    )\n",
              "    (2): Bottleneck(\n",
              "      (conv1): Conv2d(1024, 256, kernel_size=(1, 1), stride=(1, 1), bias=False)\n",
              "      (bn1): BatchNorm2d(256, eps=1e-05, momentum=0.1, affine=True, track_running_stats=True)\n",
              "      (conv2): Conv2d(256, 256, kernel_size=(3, 3), stride=(1, 1), padding=(1, 1), bias=False)\n",
              "      (bn2): BatchNorm2d(256, eps=1e-05, momentum=0.1, affine=True, track_running_stats=True)\n",
              "      (conv3): Conv2d(256, 1024, kernel_size=(1, 1), stride=(1, 1), bias=False)\n",
              "      (bn3): BatchNorm2d(1024, eps=1e-05, momentum=0.1, affine=True, track_running_stats=True)\n",
              "      (relu): ReLU(inplace=True)\n",
              "    )\n",
              "    (3): Bottleneck(\n",
              "      (conv1): Conv2d(1024, 256, kernel_size=(1, 1), stride=(1, 1), bias=False)\n",
              "      (bn1): BatchNorm2d(256, eps=1e-05, momentum=0.1, affine=True, track_running_stats=True)\n",
              "      (conv2): Conv2d(256, 256, kernel_size=(3, 3), stride=(1, 1), padding=(1, 1), bias=False)\n",
              "      (bn2): BatchNorm2d(256, eps=1e-05, momentum=0.1, affine=True, track_running_stats=True)\n",
              "      (conv3): Conv2d(256, 1024, kernel_size=(1, 1), stride=(1, 1), bias=False)\n",
              "      (bn3): BatchNorm2d(1024, eps=1e-05, momentum=0.1, affine=True, track_running_stats=True)\n",
              "      (relu): ReLU(inplace=True)\n",
              "    )\n",
              "    (4): Bottleneck(\n",
              "      (conv1): Conv2d(1024, 256, kernel_size=(1, 1), stride=(1, 1), bias=False)\n",
              "      (bn1): BatchNorm2d(256, eps=1e-05, momentum=0.1, affine=True, track_running_stats=True)\n",
              "      (conv2): Conv2d(256, 256, kernel_size=(3, 3), stride=(1, 1), padding=(1, 1), bias=False)\n",
              "      (bn2): BatchNorm2d(256, eps=1e-05, momentum=0.1, affine=True, track_running_stats=True)\n",
              "      (conv3): Conv2d(256, 1024, kernel_size=(1, 1), stride=(1, 1), bias=False)\n",
              "      (bn3): BatchNorm2d(1024, eps=1e-05, momentum=0.1, affine=True, track_running_stats=True)\n",
              "      (relu): ReLU(inplace=True)\n",
              "    )\n",
              "    (5): Bottleneck(\n",
              "      (conv1): Conv2d(1024, 256, kernel_size=(1, 1), stride=(1, 1), bias=False)\n",
              "      (bn1): BatchNorm2d(256, eps=1e-05, momentum=0.1, affine=True, track_running_stats=True)\n",
              "      (conv2): Conv2d(256, 256, kernel_size=(3, 3), stride=(1, 1), padding=(1, 1), bias=False)\n",
              "      (bn2): BatchNorm2d(256, eps=1e-05, momentum=0.1, affine=True, track_running_stats=True)\n",
              "      (conv3): Conv2d(256, 1024, kernel_size=(1, 1), stride=(1, 1), bias=False)\n",
              "      (bn3): BatchNorm2d(1024, eps=1e-05, momentum=0.1, affine=True, track_running_stats=True)\n",
              "      (relu): ReLU(inplace=True)\n",
              "    )\n",
              "  )\n",
              "  (layer4): Sequential(\n",
              "    (0): Bottleneck(\n",
              "      (conv1): Conv2d(1024, 512, kernel_size=(1, 1), stride=(1, 1), bias=False)\n",
              "      (bn1): BatchNorm2d(512, eps=1e-05, momentum=0.1, affine=True, track_running_stats=True)\n",
              "      (conv2): Conv2d(512, 512, kernel_size=(3, 3), stride=(2, 2), padding=(1, 1), bias=False)\n",
              "      (bn2): BatchNorm2d(512, eps=1e-05, momentum=0.1, affine=True, track_running_stats=True)\n",
              "      (conv3): Conv2d(512, 2048, kernel_size=(1, 1), stride=(1, 1), bias=False)\n",
              "      (bn3): BatchNorm2d(2048, eps=1e-05, momentum=0.1, affine=True, track_running_stats=True)\n",
              "      (relu): ReLU(inplace=True)\n",
              "      (downsample): Sequential(\n",
              "        (0): Conv2d(1024, 2048, kernel_size=(1, 1), stride=(2, 2), bias=False)\n",
              "        (1): BatchNorm2d(2048, eps=1e-05, momentum=0.1, affine=True, track_running_stats=True)\n",
              "      )\n",
              "    )\n",
              "    (1): Bottleneck(\n",
              "      (conv1): Conv2d(2048, 512, kernel_size=(1, 1), stride=(1, 1), bias=False)\n",
              "      (bn1): BatchNorm2d(512, eps=1e-05, momentum=0.1, affine=True, track_running_stats=True)\n",
              "      (conv2): Conv2d(512, 512, kernel_size=(3, 3), stride=(1, 1), padding=(1, 1), bias=False)\n",
              "      (bn2): BatchNorm2d(512, eps=1e-05, momentum=0.1, affine=True, track_running_stats=True)\n",
              "      (conv3): Conv2d(512, 2048, kernel_size=(1, 1), stride=(1, 1), bias=False)\n",
              "      (bn3): BatchNorm2d(2048, eps=1e-05, momentum=0.1, affine=True, track_running_stats=True)\n",
              "      (relu): ReLU(inplace=True)\n",
              "    )\n",
              "    (2): Bottleneck(\n",
              "      (conv1): Conv2d(2048, 512, kernel_size=(1, 1), stride=(1, 1), bias=False)\n",
              "      (bn1): BatchNorm2d(512, eps=1e-05, momentum=0.1, affine=True, track_running_stats=True)\n",
              "      (conv2): Conv2d(512, 512, kernel_size=(3, 3), stride=(1, 1), padding=(1, 1), bias=False)\n",
              "      (bn2): BatchNorm2d(512, eps=1e-05, momentum=0.1, affine=True, track_running_stats=True)\n",
              "      (conv3): Conv2d(512, 2048, kernel_size=(1, 1), stride=(1, 1), bias=False)\n",
              "      (bn3): BatchNorm2d(2048, eps=1e-05, momentum=0.1, affine=True, track_running_stats=True)\n",
              "      (relu): ReLU(inplace=True)\n",
              "    )\n",
              "  )\n",
              "  (avgpool): AdaptiveAvgPool2d(output_size=(1, 1))\n",
              "  (fc): Linear(in_features=2048, out_features=1000, bias=True)\n",
              ")"
            ]
          },
          "metadata": {},
          "execution_count": 2
        }
      ]
    },
    {
      "cell_type": "code",
      "source": [],
      "metadata": {
        "id": "M4z0xKqj-aFg"
      },
      "execution_count": null,
      "outputs": []
    },
    {
      "cell_type": "code",
      "source": [
        "# Define image transforms\n",
        "preprocess = transforms.Compose([\n",
        "    transforms.Resize(256),\n",
        "    transforms.CenterCrop(224),\n",
        "    transforms.ToTensor(),\n",
        "    transforms.Normalize(\n",
        "        mean=[0.485, 0.456, 0.406],  # ImageNet means\n",
        "        std=[0.229, 0.224, 0.225]    # ImageNet stds\n",
        "    )\n",
        "])\n",
        "\n",
        "# Load an image from file or URL\n",
        "img = Image.open(\"/content/agri_0_114.jpeg\")  # Replace with your image\n",
        "img_t = preprocess(img)\n",
        "batch_t = torch.unsqueeze(img_t, 0)  # Add batch dimension\n"
      ],
      "metadata": {
        "id": "IyA_Cm7M8yiB"
      },
      "execution_count": null,
      "outputs": []
    },
    {
      "cell_type": "code",
      "source": [],
      "metadata": {
        "id": "llaGQb5e-fG8"
      },
      "execution_count": null,
      "outputs": []
    },
    {
      "cell_type": "code",
      "metadata": {
        "id": "lUHgzt0Bny1Q",
        "colab": {
          "base_uri": "https://localhost:8080/"
        },
        "outputId": "e869e380-f845-452c-a2a9-5afca528b296"
      },
      "source": [
        "new_model = load_model('/content/drive/MyDrive/ResNet50/model/RESNET50.h5')\n",
        "predictions = new_model.evaluate(X_test, Y_test)\n",
        "print(predictions)"
      ],
      "execution_count": null,
      "outputs": [
        {
          "output_type": "stream",
          "name": "stdout",
          "text": [
            "4/4 [==============================] - 3s 521ms/step - loss: 0.2398 - accuracy: 0.9500\n",
            "[0.239801824092865, 0.949999988079071]\n"
          ]
        }
      ]
    },
    {
      "cell_type": "code",
      "source": [],
      "metadata": {
        "id": "4gCUSaWU-hYq"
      },
      "execution_count": null,
      "outputs": []
    },
    {
      "cell_type": "code",
      "metadata": {
        "id": "0BEboK3RgVwc",
        "colab": {
          "base_uri": "https://localhost:8080/"
        },
        "outputId": "282a963f-ca82-46b7-adb1-f1449ef4c8cc"
      },
      "source": [
        "predictions = model.evaluate(X_test, Y_test)\n",
        "print(\"Loss = \" + str(predictions[0]))\n",
        "print(\"Test Accuracy = \" + str(predictions[1]))"
      ],
      "execution_count": null,
      "outputs": [
        {
          "output_type": "stream",
          "name": "stdout",
          "text": [
            "4/4 [==============================] - 3s 392ms/step - loss: 0.2398 - accuracy: 0.9500\n",
            "Loss = 0.239801824092865\n",
            "Test Accuracy = 0.949999988079071\n"
          ]
        }
      ]
    },
    {
      "cell_type": "markdown",
      "source": [
        "SAM"
      ],
      "metadata": {
        "id": "ZqpVzrdF-iIF"
      }
    },
    {
      "cell_type": "code",
      "source": [],
      "metadata": {
        "id": "ObhLP-gI-jDH"
      },
      "execution_count": null,
      "outputs": []
    },
    {
      "cell_type": "code",
      "source": [
        "import os\n",
        "\n",
        "# Check folder structure\n",
        "print(\"Train Images:\", os.listdir('/content/weed_dataset/Train/images'))\n",
        "print(\"Train Labels:\", os.listdir('/content/weed_dataset/Train/labels'))\n",
        "print(\"Test Images:\", os.listdir('/content/weed_dataset/Test/images'))\n",
        "print(\"Test Labels:\", os.listdir('/content/weed_dataset/Test/labels'))\n",
        "print(\"Valid Images:\", os.listdir('/content/weed_dataset/val/images'))\n",
        "print(\"Valid Labels:\", os.listdir('/content/weed_dataset/val/labels'))\n"
      ],
      "metadata": {
        "colab": {
          "base_uri": "https://localhost:8080/"
        },
        "id": "m6QcdmFH-RTn",
        "outputId": "a6a16ff9-32f4-47c1-dd1c-338bbed4441f"
      },
      "execution_count": null,
      "outputs": [
        {
          "output_type": "stream",
          "name": "stdout",
          "text": [
            "Train Images: ['agri_0_2390.jpeg', 'agri_0_2675.jpeg', 'agri_0_352.jpeg', 'agri_0_2077.jpeg', 'agri_0_630.jpeg', 'agri_0_626.jpeg', 'agri_0_551.jpeg', 'agri_0_2244.jpeg', 'agri_0_2345.jpeg', 'agri_0_2221.jpeg', 'agri_0_773.jpeg', 'agri_0_607.jpeg', 'agri_0_1806.jpeg', 'agri_0_789.jpeg', 'agri_0_203.jpeg', 'agri_0_122.jpeg', 'agri_0_14.jpeg', 'agri_0_2088.jpeg', 'agri_0_2158.jpeg', 'agri_0_84.jpeg', 'agri_0_2438.jpeg', 'agri_0_2685.jpeg', 'agri_0_1945.jpeg', 'agri_0_567.jpeg', 'agri_0_1966.jpeg', 'agri_0_596.jpeg', 'agri_0_2323.jpeg', 'agri_0_106.jpeg', 'agri_0_2159.jpeg', 'agri_0_39.jpeg', 'agri_0_808.jpeg', 'agri_0_301.jpeg', 'agri_0_2495.jpeg', 'agri_0_1849.jpeg', 'agri_0_2326.jpeg', 'agri_0_2498.jpeg', 'agri_0_1990.jpeg', 'agri_0_2654.jpeg', 'agri_0_2530.jpeg', 'agri_0_2082.jpeg', 'agri_0_718.jpeg', 'agri_0_2263.jpeg', 'agri_0_665.jpeg', 'agri_0_2469.jpeg', 'agri_0_1932.jpeg', 'agri_0_1993.jpeg', 'agri_0_603.jpeg', 'agri_0_224.jpeg', 'agri_0_787.jpeg', 'agri_0_2407.jpeg', 'agri_0_2226.jpeg', 'agri_0_1960.jpeg', 'agri_0_2330.jpeg', 'agri_0_437.jpeg', 'agri_0_395.jpeg', 'agri_0_741.jpeg', 'agri_0_466.jpeg', 'agri_0_1835.jpeg', 'agri_0_1882.jpeg', 'agri_0_2653.jpeg', 'agri_0_2405.jpeg', 'agri_0_1909.jpeg', 'agri_0_491.jpeg', 'agri_0_357.jpeg', 'agri_0_1926.jpeg', 'agri_0_2681.jpeg', 'agri_0_780.jpeg', 'agri_0_223.jpeg', 'agri_0_657.jpeg', 'agri_0_495.jpeg', 'agri_0_131.jpeg', 'agri_0_372.jpeg', 'agri_0_2034.jpeg', 'agri_0_114.jpeg', 'agri_0_126.jpeg', 'agri_0_2606.jpeg', 'agri_0_1941.jpeg', 'agri_0_248.jpeg', 'agri_0_601.jpeg', 'agri_0_2400.jpeg', 'agri_0_584.jpeg', 'agri_0_156.jpeg', 'agri_0_2686.jpeg', 'agri_0_177.jpeg', 'agri_0_1810.jpeg', 'agri_0_3.jpeg', 'agri_0_744.jpeg', 'agri_0_1908.jpeg', 'agri_0_401.jpeg', 'agri_0_2121.jpeg', 'agri_0_784.jpeg', 'agri_0_1888.jpeg', 'agri_0_377.jpeg', 'agri_0_1878.jpeg', 'agri_0_2256.jpeg', 'agri_0_2633.jpeg', 'agri_0_1858.jpeg', 'agri_0_452.jpeg', 'agri_0_2692.jpeg', 'agri_0_683.jpeg', 'agri_0_1779.jpeg', 'agri_0_299.jpeg', 'agri_0_110.jpeg', 'agri_0_347.jpeg', 'agri_0_136.jpeg', 'agri_0_2533.jpeg', 'agri_0_221.jpeg', 'agri_0_1814.jpeg', 'agri_0_1841.jpeg', 'agri_0_614.jpeg', 'agri_0_57.jpeg', 'agri_0_172.jpeg', 'agri_0_1929.jpeg', 'agri_0_550.jpeg', 'agri_0_277.jpeg', 'agri_0_1955.jpeg', 'agri_0_272.jpeg', 'agri_0_1771.jpeg', 'agri_0_526.jpeg', 'agri_0_82.jpeg', 'agri_0_487.jpeg', 'agri_0_2450.jpeg', 'agri_0_2484.jpeg', 'agri_0_667.jpeg', 'agri_0_2204.jpeg', 'agri_0_1788.jpeg', 'agri_0_2465.jpeg', 'agri_0_631.jpeg', 'agri_0_600.jpeg', 'agri_0_2545.jpeg', 'agri_0_2385.jpeg', 'agri_0_1731.jpeg', 'agri_0_752.jpeg', 'agri_0_1750.jpeg', 'agri_0_2582.jpeg', 'agri_0_113.jpeg', 'agri_0_76.jpeg', 'agri_0_1862.jpeg', 'agri_0_815.jpeg', 'agri_0_1992.jpeg', 'agri_0_2095.jpeg', 'agri_0_2551.jpeg', 'agri_0_1961.jpeg', 'agri_0_714.jpeg', 'agri_0_270.jpeg', 'agri_0_566.jpeg', 'agri_0_641.jpeg', 'agri_0_417.jpeg', 'agri_0_1830.jpeg', 'agri_0_725.jpeg', 'agri_0_2670.jpeg', 'agri_0_2441.jpeg', 'agri_0_1851.jpeg', 'agri_0_151.jpeg', 'agri_0_2271.jpeg', 'agri_0_2549.jpeg', 'agri_0_1959.jpeg', 'agri_0_2040.jpeg', 'agri_0_2550.jpeg', 'agri_0_237.jpeg', 'agri_0_1859.jpeg', 'agri_0_2595.jpeg', 'agri_0_543.jpeg', 'agri_0_1784.jpeg', 'agri_0_1868.jpeg', 'agri_0_1815.jpeg', 'agri_0_164.jpeg', 'agri_0_1885.jpeg', 'agri_0_2525.jpeg', 'agri_0_2442.jpeg', 'agri_0_2649.jpeg', 'agri_0_326.jpeg', 'agri_0_2522.jpeg', 'agri_0_333.jpeg', 'agri_0_2144.jpeg', 'agri_0_6.jpeg', 'agri_0_2161.jpeg', 'agri_0_2228.jpeg', 'agri_0_2393.jpeg', 'agri_0_1793.jpeg', 'agri_0_2521.jpeg', 'agri_0_2180.jpeg', 'agri_0_757.jpeg', 'agri_0_1852.jpeg', 'agri_0_2471.jpeg', 'agri_0_2639.jpeg', 'agri_0_2278.jpeg', 'agri_0_2322.jpeg', 'agri_0_2363.jpeg', 'agri_0_2320.jpeg', 'agri_0_583.jpeg', 'agri_0_456.jpeg', 'agri_0_2332.jpeg', 'agri_0_376.jpeg', 'agri_0_1928.jpeg', 'agri_0_81.jpeg', 'agri_0_484.jpeg', 'agri_0_2370.jpeg', 'agri_0_618.jpeg', 'agri_0_654.jpeg', 'agri_0_2513.jpeg', 'agri_0_823.jpeg', 'agri_0_544.jpeg', 'agri_0_402.jpeg', 'agri_0_2567.jpeg', 'agri_0_1873.jpeg', 'agri_0_2644.jpeg', 'agri_0_2547.jpeg', 'agri_0_629.jpeg', 'agri_0_318.jpeg', 'agri_0_1985.jpeg', 'agri_0_561.jpeg', 'agri_0_462.jpeg', 'agri_0_249.jpeg', 'agri_0_60.jpeg', 'agri_0_2001.jpeg', 'agri_0_129.jpeg', 'agri_0_2604.jpeg', 'agri_0_2136.jpeg', 'agri_0_1988.jpeg']\n",
            "Train Labels: ['agri_0_566.txt', 'agri_0_2407.txt', 'agri_0_583.txt', 'agri_0_82.txt', 'agri_0_1779.txt', 'agri_0_752.txt', 'agri_0_1932.txt', 'agri_0_2582.txt', 'agri_0_667.txt', 'agri_0_395.txt', 'agri_0_789.txt', 'agri_0_630.txt', 'agri_0_2001.txt', 'agri_0_2323.txt', 'agri_0_376.txt', 'agri_0_2484.txt', 'agri_0_2385.txt', 'agri_0_151.txt', 'agri_0_2681.txt', 'agri_0_2604.txt', 'agri_0_372.txt', 'agri_0_2471.txt', 'agri_0_2521.txt', 'agri_0_2465.txt', 'agri_0_654.txt', 'agri_0_773.txt', 'agri_0_2204.txt', 'agri_0_2495.txt', 'agri_0_3.txt', 'agri_0_1988.txt', 'agri_0_2345.txt', 'agri_0_2256.txt', 'agri_0_1750.txt', 'agri_0_2159.txt', 'agri_0_452.txt', 'agri_0_2545.txt', 'agri_0_1814.txt', 'agri_0_607.txt', 'agri_0_249.txt', 'agri_0_641.txt', 'agri_0_299.txt', 'agri_0_2322.txt', 'agri_0_2221.txt', 'agri_0_270.txt', 'agri_0_2158.txt', 'agri_0_2226.txt', 'agri_0_129.txt', 'agri_0_318.txt', 'agri_0_6.txt', 'agri_0_114.txt', 'agri_0_1815.txt', 'agri_0_1835.txt', 'agri_0_437.txt', 'agri_0_326.txt', 'agri_0_631.txt', 'agri_0_744.txt', 'agri_0_601.txt', 'agri_0_1882.txt', 'agri_0_1731.txt', 'agri_0_2654.txt', 'agri_0_2271.txt', 'agri_0_2670.txt', 'agri_0_1909.txt', 'agri_0_2595.txt', 'agri_0_1793.txt', 'agri_0_1959.txt', 'agri_0_1806.txt', 'agri_0_1990.txt', 'agri_0_2533.txt', 'agri_0_1929.txt', 'agri_0_550.txt', 'agri_0_456.txt', 'agri_0_665.txt', 'agri_0_402.txt', 'agri_0_57.txt', 'agri_0_2547.txt', 'agri_0_757.txt', 'agri_0_2363.txt', 'agri_0_2326.txt', 'agri_0_543.txt', 'agri_0_2332.txt', 'agri_0_1868.txt', 'agri_0_2161.txt', 'agri_0_1945.txt', 'agri_0_272.txt', 'agri_0_618.txt', 'agri_0_784.txt', 'agri_0_2370.txt', 'agri_0_567.txt', 'agri_0_2144.txt', 'agri_0_2653.txt', 'agri_0_1888.txt', 'agri_0_1993.txt', 'agri_0_1928.txt', 'agri_0_683.txt', 'agri_0_237.txt', 'agri_0_2088.txt', 'agri_0_2450.txt', 'agri_0_401.txt', 'agri_0_2180.txt', 'agri_0_603.txt', 'agri_0_131.txt', 'agri_0_1873.txt', 'agri_0_1926.txt', 'agri_0_2567.txt', 'agri_0_544.txt', 'agri_0_596.txt', 'agri_0_1960.txt', 'agri_0_1858.txt', 'agri_0_224.txt', 'agri_0_2405.txt', 'agri_0_600.txt', 'agri_0_2390.txt', 'agri_0_352.txt', 'agri_0_136.txt', 'agri_0_2095.txt', 'agri_0_584.txt', 'agri_0_2040.txt', 'agri_0_2498.txt', 'agri_0_1966.txt', 'agri_0_1961.txt', 'agri_0_377.txt', 'agri_0_1771.txt', 'agri_0_614.txt', 'agri_0_787.txt', 'agri_0_110.txt', 'agri_0_2136.txt', 'agri_0_203.txt', 'agri_0_1849.txt', 'agri_0_2685.txt', 'agri_0_466.txt', 'agri_0_808.txt', 'agri_0_2320.txt', 'agri_0_2121.txt', 'agri_0_14.txt', 'agri_0_2278.txt', 'agri_0_2522.txt', 'agri_0_1862.txt', 'agri_0_2649.txt', 'agri_0_2469.txt', 'agri_0_177.txt', 'agri_0_780.txt', 'agri_0_714.txt', 'agri_0_2644.txt', 'agri_0_462.txt', 'agri_0_2606.txt', 'agri_0_122.txt', 'agri_0_2228.txt', 'agri_0_301.txt', 'agri_0_2675.txt', 'agri_0_1830.txt', 'agri_0_2633.txt', 'agri_0_741.txt', 'agri_0_2438.txt', 'agri_0_725.txt', 'agri_0_81.txt', 'agri_0_1941.txt', 'agri_0_626.txt', 'agri_0_629.txt', 'agri_0_823.txt', 'agri_0_1841.txt', 'agri_0_2530.txt', 'agri_0_495.txt', 'agri_0_221.txt', 'agri_0_487.txt', 'agri_0_561.txt', 'agri_0_106.txt', 'agri_0_1955.txt', 'agri_0_1885.txt', 'agri_0_2549.txt', 'agri_0_1810.txt', 'agri_0_2525.txt', 'agri_0_172.txt', 'agri_0_718.txt', 'agri_0_84.txt', 'agri_0_2077.txt', 'agri_0_2442.txt', 'agri_0_2692.txt', 'agri_0_526.txt', 'agri_0_357.txt', 'agri_0_76.txt', 'agri_0_815.txt', 'agri_0_657.txt', 'agri_0_1852.txt', 'agri_0_2244.txt', 'agri_0_2330.txt', 'agri_0_1788.txt', 'agri_0_60.txt', 'agri_0_126.txt', 'agri_0_1851.txt', 'agri_0_417.txt', 'agri_0_347.txt', 'agri_0_2263.txt', 'agri_0_551.txt', 'agri_0_2550.txt', 'agri_0_113.txt', 'agri_0_1992.txt', 'agri_0_1985.txt', 'agri_0_164.txt', 'agri_0_484.txt', 'agri_0_39.txt', 'agri_0_1859.txt', 'agri_0_2441.txt', 'agri_0_2686.txt', 'agri_0_2551.txt', 'agri_0_2082.txt', 'agri_0_156.txt', 'agri_0_248.txt', 'agri_0_223.txt', 'agri_0_277.txt', 'agri_0_491.txt', 'agri_0_2513.txt', 'agri_0_2393.txt', 'agri_0_333.txt', 'agri_0_1784.txt', 'agri_0_1908.txt', 'agri_0_2639.txt', 'agri_0_2034.txt', 'agri_0_2400.txt', 'agri_0_1878.txt']\n",
            "Test Images: ['agri_0_975.jpeg', 'agri_0_1083.jpeg', 'agri_0_1173.jpeg', 'agri_0_1082.jpeg', 'agri_0_1018.jpeg', 'agri_0_879.jpeg', 'agri_0_1094.jpeg', 'agri_0_882.jpeg', 'agri_0_1166.jpeg', 'agri_0_1068.jpeg', 'agri_0_1009.jpeg', 'agri_0_1130.jpeg', 'agri_0_920.jpeg', 'agri_0_1024.jpeg', 'agri_0_909.jpeg', 'agri_0_954.jpeg', 'agri_0_1079.jpeg', 'agri_0_911.jpeg', 'agri_0_941.jpeg', 'agri_0_830.jpeg', 'agri_0_1171.jpeg', 'agri_0_1123.jpeg', 'agri_0_915.jpeg', 'agri_0_980.jpeg', 'agri_0_935.jpeg', 'agri_0_1053.jpeg', 'agri_0_1114.jpeg', 'agri_0_1020.jpeg', 'agri_0_1095.jpeg', 'agri_0_1017.jpeg', 'agri_0_1119.jpeg', 'agri_0_838.jpeg', 'agri_0_899.jpeg', 'agri_0_1041.jpeg', 'agri_0_1129.jpeg', 'agri_0_1026.jpeg', 'agri_0_866.jpeg', 'agri_0_934.jpeg', 'agri_0_1192.jpeg', 'agri_0_871.jpeg', 'agri_0_1177.jpeg', 'agri_0_1146.jpeg', 'agri_0_1168.jpeg', 'agri_0_840.jpeg', 'agri_0_1140.jpeg', 'agri_0_839.jpeg', 'agri_0_991.jpeg', 'agri_0_864.jpeg', 'agri_0_1028.jpeg', 'agri_0_1174.jpeg']\n",
            "Test Labels: ['agri_0_1174.txt', 'agri_0_1009.txt', 'agri_0_1123.txt', 'agri_0_1192.txt', 'agri_0_915.txt', 'agri_0_1177.txt', 'agri_0_864.txt', 'agri_0_980.txt', 'agri_0_1130.txt', 'agri_0_1166.txt', 'agri_0_975.txt', 'agri_0_1024.txt', 'agri_0_1017.txt', 'agri_0_941.txt', 'agri_0_1114.txt', 'agri_0_1140.txt', 'agri_0_1119.txt', 'agri_0_871.txt', 'agri_0_882.txt', 'agri_0_899.txt', 'agri_0_839.txt', 'agri_0_1082.txt', 'agri_0_866.txt', 'agri_0_1028.txt', 'agri_0_1018.txt', 'agri_0_1083.txt', 'agri_0_909.txt', 'agri_0_1171.txt', 'agri_0_911.txt', 'agri_0_1173.txt', 'agri_0_1041.txt', 'agri_0_1095.txt', 'agri_0_1146.txt', 'agri_0_879.txt', 'agri_0_1168.txt', 'agri_0_991.txt', 'agri_0_1129.txt', 'agri_0_954.txt', 'agri_0_920.txt', 'agri_0_830.txt', 'agri_0_1094.txt', 'agri_0_935.txt', 'agri_0_1020.txt', 'agri_0_1079.txt', 'agri_0_934.txt', 'agri_0_1053.txt', 'agri_0_838.txt', 'agri_0_1026.txt', 'agri_0_1068.txt', 'agri_0_840.txt']\n",
            "Valid Images: ['agri_0_1564.jpeg', 'agri_0_1314.jpeg', 'agri_0_1572.jpeg', 'agri_0_1477.jpeg', 'agri_0_1193.jpeg', 'agri_0_1642.jpeg', 'agri_0_1570.jpeg', 'agri_0_1518.jpeg', 'agri_0_1198.jpeg', 'agri_0_1385.jpeg', 'agri_0_1320.jpeg', 'agri_0_1610.jpeg', 'agri_0_1463.jpeg', 'agri_0_1494.jpeg', 'agri_0_1508.jpeg', 'agri_0_1395.jpeg', 'agri_0_1214.jpeg', 'agri_0_1342.jpeg', 'agri_0_1512.jpeg', 'agri_0_1630.jpeg', 'agri_0_1260.jpeg', 'agri_0_1258.jpeg', 'agri_0_1707.jpeg', 'agri_0_1334.jpeg', 'agri_0_1210.jpeg', 'agri_0_1692.jpeg', 'agri_0_1530.jpeg', 'agri_0_1215.jpeg', 'agri_0_1693.jpeg', 'agri_0_1350.jpeg', 'agri_0_1627.jpeg', 'agri_0_1619.jpeg', 'agri_0_1515.jpeg', 'agri_0_1677.jpeg', 'agri_0_1509.jpeg', 'agri_0_1499.jpeg', 'agri_0_1722.jpeg', 'agri_0_1211.jpeg', 'agri_0_1361.jpeg', 'agri_0_1221.jpeg', 'agri_0_1590.jpeg', 'agri_0_1393.jpeg', 'agri_0_1242.jpeg', 'agri_0_1612.jpeg', 'agri_0_1317.jpeg', 'agri_0_1420.jpeg', 'agri_0_1729.jpeg', 'agri_0_1332.jpeg', 'agri_0_1351.jpeg', 'agri_0_1543.jpeg']\n",
            "Valid Labels: ['agri_0_1174.txt', 'agri_0_1395.txt', 'agri_0_1334.txt', 'agri_0_1192.txt', 'agri_0_1214.txt', 'agri_0_1612.txt', 'agri_0_1463.txt', 'agri_0_1361.txt', 'agri_0_1177.txt', 'agri_0_1509.txt', 'agri_0_1515.txt', 'agri_0_1317.txt', 'agri_0_1518.txt', 'agri_0_1630.txt', 'agri_0_1193.txt', 'agri_0_1508.txt', 'agri_0_1242.txt', 'agri_0_1211.txt', 'agri_0_1342.txt', 'agri_0_1393.txt', 'agri_0_1350.txt', 'agri_0_1543.txt', 'agri_0_1215.txt', 'agri_0_1221.txt', 'agri_0_1210.txt', 'agri_0_1420.txt', 'agri_0_1173.txt', 'agri_0_1314.txt', 'agri_0_1677.txt', 'agri_0_1564.txt', 'agri_0_1499.txt', 'agri_0_1530.txt', 'agri_0_1627.txt', 'agri_0_1512.txt', 'agri_0_1642.txt', 'agri_0_1619.txt', 'agri_0_1572.txt', 'agri_0_1494.txt', 'agri_0_1692.txt', 'agri_0_1477.txt', 'agri_0_1590.txt', 'agri_0_1610.txt', 'agri_0_1198.txt', 'agri_0_1260.txt', 'agri_0_1332.txt', 'agri_0_1258.txt', 'agri_0_1385.txt', 'agri_0_1351.txt', 'agri_0_1320.txt', 'agri_0_1570.txt']\n"
          ]
        }
      ]
    },
    {
      "cell_type": "code",
      "source": [
        "# Config\n",
        "image_size = 64\n",
        "batch_size = 128\n",
        "nc = 3            # 1 for grayscale, 3 for RGB\n",
        "nz = 100          # Size of latent vector (input to generator)\n",
        "ngf = 64          # Generator feature maps\n",
        "ndf = 64          # Discriminator feature maps\n",
        "num_epochs = 25\n",
        "lr = 0.0002\n",
        "beta1 = 0.5       # Adam optimizer beta\n",
        "device = torch.device(\"cuda\" if torch.cuda.is_available() else \"cpu\")\n"
      ],
      "metadata": {
        "id": "5piV3SVg731M"
      },
      "execution_count": null,
      "outputs": []
    },
    {
      "cell_type": "code",
      "source": [
        "import torch\n",
        "import torch.nn as nn\n",
        "import torch.optim as optim\n",
        "import torchvision.transforms as transforms\n",
        "import torchvision.datasets as dset\n",
        "import torchvision.utils as vutils\n",
        "import matplotlib.pyplot as plt\n",
        "import os\n"
      ],
      "metadata": {
        "id": "VZxsg8tB703x"
      },
      "execution_count": null,
      "outputs": []
    }
  ]
}